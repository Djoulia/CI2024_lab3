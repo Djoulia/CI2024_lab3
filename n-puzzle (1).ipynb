{
 "cells": [
  {
   "cell_type": "markdown",
   "metadata": {
    "vscode": {
     "languageId": "plaintext"
    }
   },
   "source": [
    "Copyright **`(c)`** 2024 Giovanni Squillero `<giovanni.squillero@polito.it>`  \n",
    "[`https://github.com/squillero/computational-intelligence`](https://github.com/squillero/computational-intelligence)  \n",
    "Free under certain conditions — see the [`license`](https://github.com/squillero/computational-intelligence/blob/master/LICENSE.md) for details.  "
   ]
  },
  {
   "cell_type": "code",
   "execution_count": 1,
   "metadata": {},
   "outputs": [],
   "source": [
    "from tqdm import tqdm\n",
    "from heapq import heappush, heappop\n",
    "from itertools import count\n",
    "import numpy as np\n",
    "from random import choice\n",
    "from collections import namedtuple"
   ]
  },
  {
   "cell_type": "markdown",
   "metadata": {},
   "source": [
    "### Teacher initialization"
   ]
  },
  {
   "cell_type": "code",
   "execution_count": 2,
   "metadata": {},
   "outputs": [
    {
     "name": "stderr",
     "output_type": "stream",
     "text": [
      "Randomizing: 100%|██████████| 100000/100000 [00:00<00:00, 259446.73it/s]\n"
     ]
    },
    {
     "data": {
      "text/plain": [
       "array([[0, 6, 4],\n",
       "       [8, 3, 5],\n",
       "       [2, 1, 7]])"
      ]
     },
     "execution_count": 2,
     "metadata": {},
     "output_type": "execute_result"
    }
   ],
   "source": [
    "PUZZLE_DIM = 3\n",
    "action = namedtuple('Action', ['pos1', 'pos2'])\n",
    "action_cost = 1\n",
    "\n",
    "def available_actions(state: np.ndarray) -> list['Action']:\n",
    "    x, y = [int(_[0]) for _ in np.where(state == 0)]\n",
    "    actions = list()\n",
    "    if x > 0:\n",
    "        actions.append(action((x, y), (x - 1, y)))\n",
    "    if x < PUZZLE_DIM - 1:\n",
    "        actions.append(action((x, y), (x + 1, y)))\n",
    "    if y > 0:\n",
    "        actions.append(action((x, y), (x, y - 1)))\n",
    "    if y < PUZZLE_DIM - 1:\n",
    "        actions.append(action((x, y), (x, y + 1)))\n",
    "    return actions\n",
    "\n",
    "\n",
    "\n",
    "def do_action(state: np.ndarray, action: 'Action') -> np.ndarray:\n",
    "    new_state = state.copy()\n",
    "    new_state[action.pos1], new_state[action.pos2] = new_state[action.pos2], new_state[action.pos1]\n",
    "    return new_state\n",
    "\n",
    "RANDOMIZE_STEPS = 100_000\n",
    "state = np.array([i for i in range(1, PUZZLE_DIM**2)] + [0]).reshape((PUZZLE_DIM, PUZZLE_DIM))\n",
    "goal = state\n",
    "for r in tqdm(range(RANDOMIZE_STEPS), desc='Randomizing'):\n",
    "    state = do_action(state, choice(available_actions(state)))\n",
    "state"
   ]
  },
  {
   "cell_type": "markdown",
   "metadata": {},
   "source": [
    "### A* problem solving"
   ]
  },
  {
   "cell_type": "code",
   "execution_count": 3,
   "metadata": {},
   "outputs": [
    {
     "name": "stderr",
     "output_type": "stream",
     "text": [
      "Progress in solving: 100%|██████████| 100.0/100 [00:00<00:00, 2822.28it/s]"
     ]
    },
    {
     "name": "stdout",
     "output_type": "stream",
     "text": [
      "Puzzle solved in 24 actions with a cost of 24.\n",
      "Final puzzle\n",
      "[[1 2 3]\n",
      " [4 5 6]\n",
      " [7 8 0]]\n"
     ]
    },
    {
     "name": "stderr",
     "output_type": "stream",
     "text": [
      "\n"
     ]
    }
   ],
   "source": [
    "#HashClass to get a better computation time (seen on the student that did the presentation in class)\n",
    "class HashClass:\n",
    "    def __init__(self, state: np.ndarray):\n",
    "        self.state = state\n",
    "        self.hash = hash(state.tobytes())\n",
    "\n",
    "    def __hash__(self):\n",
    "        return self.hash\n",
    "\n",
    "    def __eq__(self, other):\n",
    "        return np.array_equal(self.state, other.state)\n",
    "\n",
    "#Defining the final goal state of the puzzle (1 then 2 and so on)\n",
    "goal_positions = {value: divmod(value - 1, PUZZLE_DIM) for value in range(1, PUZZLE_DIM**2)}\n",
    "\n",
    "#Heuristics function (using the distance between each element and their goal position)\n",
    "def heuristics(state: np.ndarray) -> int:\n",
    "    distance = 0\n",
    "    for x in range(PUZZLE_DIM):\n",
    "        for y in range(PUZZLE_DIM):\n",
    "            value = state[x, y]\n",
    "            if value != 0:  \n",
    "                target_x, target_y = goal_positions[value]\n",
    "                distance += abs(x-target_x) + abs(y-target_y)\n",
    "    return distance\n",
    "\n",
    "#A* path finding algorithm\n",
    "def a_star(initial_state: np.ndarray, goal_state: np.ndarray):\n",
    "    frontier = [] #Priority queue of visiting states initializasion\n",
    "    visited = set()\n",
    "    unique_id = count()  #I use here a unique counter for the states for my heap, enabeling better computation time\n",
    "    heappush(frontier, (0, next(unique_id), HashClass(initial_state), []))  #Here I add an empty element to the queue\n",
    "\n",
    "    #Progress bar to track algorithm since it is slow on large numbers by calculating percentage of well-places pieces\n",
    "    progress = tqdm(total=100, desc=\"Progress in solving\", position=0, leave=True, dynamic_ncols=True)\n",
    "\n",
    "    max_correct_tiles = PUZZLE_DIM * PUZZLE_DIM  \n",
    "    last_percentage = 0  \n",
    "\n",
    "    while frontier:\n",
    "\n",
    "        f, _, current_state, path = heappop(frontier) #I extract the state with the lowest total estimated cost (f) from the priority queue\n",
    "\n",
    "        #Progress update, only if the percentage increases to avoid mini movmennts\n",
    "        correct_tiles = np.sum(current_state.state==goal_state)\n",
    "        percentage_correct = (correct_tiles/max_correct_tiles)*100\n",
    "        if percentage_correct > last_percentage:\n",
    "            progress.update(percentage_correct-last_percentage)\n",
    "            last_percentage = percentage_correct\n",
    "\n",
    "        if np.array_equal(current_state.state, goal_state):\n",
    "            total_cost = len(path)  # Coût total = nombre d'actions\n",
    "            return path, total_cost\n",
    "\n",
    "        visited.add(current_state)\n",
    "\n",
    "        for act in available_actions(current_state.state):\n",
    "            new_state = HashClass(do_action(current_state.state, act))\n",
    "            if new_state in visited:\n",
    "                continue\n",
    "\n",
    "            g = len(path) + action_cost  \n",
    "            h = heuristics(new_state.state)  \n",
    "            f = g + h  #cst function that is supposed to be admissible and consistent, with cumulated cost and estimated one\n",
    "\n",
    "            heappush(frontier, (f, next(unique_id), new_state, path + [act])) #Heappush enables to make sure that the less costly state \n",
    "                                                                                # is put first in the visiting order\n",
    "    return None, None\n",
    "\n",
    "#Puzzle solving\n",
    "solution, total_cost = a_star(state, goal)\n",
    "\n",
    "#Results\n",
    "print(f\"Puzzle solved in {len(solution)} actions with a cost of {total_cost}.\")\n",
    "solved_state = state.copy()\n",
    "for act in solution:\n",
    "    solved_state = do_action(solved_state, act)\n",
    "\n",
    "#Vizualise final state\n",
    "print(\"Final puzzle\")\n",
    "print(solved_state)\n"
   ]
  }
 ],
 "metadata": {
  "kernelspec": {
   "display_name": "Python 3",
   "language": "python",
   "name": "python3"
  },
  "language_info": {
   "codemirror_mode": {
    "name": "ipython",
    "version": 3
   },
   "file_extension": ".py",
   "mimetype": "text/x-python",
   "name": "python",
   "nbconvert_exporter": "python",
   "pygments_lexer": "ipython3",
   "version": "3.11.9"
  }
 },
 "nbformat": 4,
 "nbformat_minor": 2
}
