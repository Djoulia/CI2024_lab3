{
 "cells": [
  {
   "cell_type": "markdown",
   "metadata": {
    "vscode": {
     "languageId": "plaintext"
    }
   },
   "source": [
    "Copyright **`(c)`** 2024 Giovanni Squillero `<giovanni.squillero@polito.it>`  \n",
    "[`https://github.com/squillero/computational-intelligence`](https://github.com/squillero/computational-intelligence)  \n",
    "Free under certain conditions — see the [`license`](https://github.com/squillero/computational-intelligence/blob/master/LICENSE.md) for details.  "
   ]
  },
  {
   "cell_type": "code",
   "execution_count": 24,
   "metadata": {},
   "outputs": [],
   "source": [
    "from collections import namedtuple, deque\n",
    "from heapq import heappush, heappop\n",
    "import numpy as np\n",
    "from tqdm import tqdm\n",
    "from random import choice"
   ]
  },
  {
   "cell_type": "markdown",
   "metadata": {},
   "source": [
    "### Initialization"
   ]
  },
  {
   "cell_type": "code",
   "execution_count": 25,
   "metadata": {},
   "outputs": [
    {
     "name": "stderr",
     "output_type": "stream",
     "text": [
      "Randomizing: 100%|██████████| 100000/100000 [00:00<00:00, 223530.38it/s]\n"
     ]
    },
    {
     "data": {
      "text/plain": [
       "array([[21, 15,  0, 11,  4],\n",
       "       [24, 19,  3, 12,  8],\n",
       "       [20, 23,  2, 18,  7],\n",
       "       [16, 10, 14,  9,  1],\n",
       "       [ 6,  5, 13, 22, 17]])"
      ]
     },
     "execution_count": 25,
     "metadata": {},
     "output_type": "execute_result"
    }
   ],
   "source": [
    "PUZZLE_DIM = 5\n",
    "action = namedtuple('Action', ['pos1', 'pos2'])\n",
    "action_cost = 1\n",
    "\n",
    "def available_actions(state: np.ndarray) -> list['Action']:\n",
    "    x, y = [int(_[0]) for _ in np.where(state == 0)]\n",
    "    actions = list()\n",
    "    if x > 0:\n",
    "        actions.append(action((x, y), (x - 1, y)))\n",
    "    if x < PUZZLE_DIM - 1:\n",
    "        actions.append(action((x, y), (x + 1, y)))\n",
    "    if y > 0:\n",
    "        actions.append(action((x, y), (x, y - 1)))\n",
    "    if y < PUZZLE_DIM - 1:\n",
    "        actions.append(action((x, y), (x, y + 1)))\n",
    "    return actions\n",
    "\n",
    "\n",
    "\n",
    "def do_action(state: np.ndarray, action: 'Action') -> np.ndarray:\n",
    "    new_state = state.copy()\n",
    "    new_state[action.pos1], new_state[action.pos2] = new_state[action.pos2], new_state[action.pos1]\n",
    "    return new_state\n",
    "\n",
    "RANDOMIZE_STEPS = 100_000\n",
    "state = np.array([i for i in range(1, PUZZLE_DIM**2)] + [0]).reshape((PUZZLE_DIM, PUZZLE_DIM))\n",
    "goal = state\n",
    "for r in tqdm(range(RANDOMIZE_STEPS), desc='Randomizing'):\n",
    "    state = do_action(state, choice(available_actions(state)))\n",
    "state"
   ]
  },
  {
   "cell_type": "markdown",
   "metadata": {},
   "source": [
    "### A* problem solving"
   ]
  },
  {
   "cell_type": "code",
   "execution_count": null,
   "metadata": {},
   "outputs": [
    {
     "name": "stderr",
     "output_type": "stream",
     "text": [
      "Processing States:  49%|████▊     | 9862500/20292318 [12:13<07:30, 23161.11it/s] "
     ]
    }
   ],
   "source": [
    "# Heuristics with distance to goal position\n",
    "def heuristics(state: np.ndarray) -> int:\n",
    "    distance = 0\n",
    "    for x in range(PUZZLE_DIM):\n",
    "        for y in range(PUZZLE_DIM):\n",
    "            value = state[x, y]\n",
    "            if value != 0:  # Do not consider the position of the 0\n",
    "                target_x, target_y = divmod(value - 1, PUZZLE_DIM)  # Target position (all in order 1 then 2 then 3...)\n",
    "                distance += abs(x - target_x) + abs(y - target_y) # Manhattan method to calculate distance\n",
    "    return distance\n",
    "\n",
    "# A* implementation\n",
    "def a_star(initial_state: np.ndarray, goal_state: np.ndarray):\n",
    "    # Priority queue (min-heap)\n",
    "    frontier = []\n",
    "    heappush(frontier, (0, initial_state.tobytes(), []))  # Add initial state as (f, state_bytes, path)\n",
    "    \n",
    "    # Visited states as a set\n",
    "    visited = set()\n",
    "    \n",
    "    # Progress bar: total is unknown initially, so we use `total=None`\n",
    "    progress = tqdm(total=0, desc=\"Processing States\", position=0, leave=True, dynamic_ncols=True)\n",
    "\n",
    "    while frontier:\n",
    "        # Update progress bar for each state processed\n",
    "        progress.total = len(frontier) + len(visited)  # Approximate total states explored so far\n",
    "        progress.update(1)  # Increment progress by 1\n",
    "\n",
    "        # Pop the state with the smallest cost from the priority queue\n",
    "        f, current_bytes, path = heappop(frontier)\n",
    "\n",
    "        # Convert the byte string back to a NumPy array\n",
    "        current_state = np.frombuffer(current_bytes, dtype=int).reshape((PUZZLE_DIM, PUZZLE_DIM))\n",
    "\n",
    "        # If the current state matches the goal, return the path and its cost\n",
    "        if np.array_equal(current_state, goal_state):\n",
    "            progress.close()\n",
    "            total_cost = len(path) * action_cost\n",
    "            return path, total_cost\n",
    "\n",
    "        # Add the current state to the visited set\n",
    "        visited.add(current_bytes)\n",
    "\n",
    "        # Explore all possible actions\n",
    "        for act in available_actions(current_state):\n",
    "            new_state = do_action(current_state, act)\n",
    "            new_state_bytes = new_state.tobytes()\n",
    "            if new_state_bytes in visited:\n",
    "                continue\n",
    "\n",
    "            # Calculate cost\n",
    "            g = len(path) + action_cost  # Actual cost to reach this state\n",
    "            h = heuristics(new_state)  # Heuristic cost to goal\n",
    "            f = g + h  # Total estimated cost\n",
    "\n",
    "            # Add the new state to the priority queue\n",
    "            heappush(frontier, (f, new_state_bytes, path + [act]))\n",
    "\n",
    "    # If no solution is found\n",
    "    progress.close()\n",
    "    return None, None\n",
    "\n",
    "\n",
    "# Résolution du puzzle\n",
    "solution = a_star(state, goal)\n",
    "if solution is not None:\n",
    "    print(f\"Puzzle résolu en {len(solution)} mouvements.\")\n",
    "    for step, act in enumerate(solution, 1):\n",
    "        print(f\"Mouvement {step}: échange {act.pos1} avec {act.pos2}\")\n",
    "else:\n",
    "    print(\"Aucune solution trouvée.\")"
   ]
  }
 ],
 "metadata": {
  "kernelspec": {
   "display_name": "Python 3",
   "language": "python",
   "name": "python3"
  },
  "language_info": {
   "codemirror_mode": {
    "name": "ipython",
    "version": 3
   },
   "file_extension": ".py",
   "mimetype": "text/x-python",
   "name": "python",
   "nbconvert_exporter": "python",
   "pygments_lexer": "ipython3",
   "version": "3.11.9"
  }
 },
 "nbformat": 4,
 "nbformat_minor": 2
}
